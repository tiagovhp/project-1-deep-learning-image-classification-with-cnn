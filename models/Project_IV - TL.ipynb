{
 "cells": [
  {
   "cell_type": "code",
   "execution_count": null,
   "metadata": {},
   "outputs": [
    {
     "ename": "",
     "evalue": "",
     "output_type": "error",
     "traceback": [
      "\u001b[1;31mRunning cells with 'Python 3.13.0' requires the ipykernel package.\n",
      "\u001b[1;31mRun the following command to install 'ipykernel' into the Python environment. \n",
      "\u001b[1;31mCommand: '/opt/homebrew/bin/python3 -m pip install ipykernel -U --user --force-reinstall'"
     ]
    }
   ],
   "source": []
  },
  {
   "cell_type": "markdown",
   "metadata": {},
   "source": [
    "# Project IV: Image Processing and Computer Vision"
   ]
  },
  {
   "cell_type": "markdown",
   "metadata": {},
   "source": [
    "# Data loading "
   ]
  },
  {
   "cell_type": "markdown",
   "metadata": {},
   "source": [
    "CIFAR-10 \n",
    "- consists of 60000 32x32 colour images in 10 classes, with 6000 images per class. \n",
    "- There are 50000 training images and 10000 test images."
   ]
  },
  {
   "cell_type": "code",
   "execution_count": null,
   "metadata": {},
   "outputs": [
    {
     "ename": "",
     "evalue": "",
     "output_type": "error",
     "traceback": [
      "\u001b[1;31mRunning cells with 'Python 3.13.0' requires the ipykernel package.\n",
      "\u001b[1;31mRun the following command to install 'ipykernel' into the Python environment. \n",
      "\u001b[1;31mCommand: '/opt/homebrew/bin/python3 -m pip install ipykernel -U --user --force-reinstall'"
     ]
    }
   ],
   "source": [
    "import pickle\n",
    "import numpy as np\n",
    "import pandas as pd\n",
    "\n",
    "\n",
    "# Function to unpickle CIFAR-10 data\n",
    "def unpickle(file):\n",
    "    import pickle\n",
    "    with open(file, 'rb') as fo:\n",
    "        data = pickle.load(fo, encoding='bytes')\n",
    "    return data\n",
    "\n",
    "# Load CIFAR-10 dataset\n",
    "train1 = unpickle(\"/Users/tiagovhp/Ironhack/Week_6/Project/cifar-10-batches-py/data_batch_1\")\n",
    "train2 = unpickle(\"/Users/tiagovhp/Ironhack/Week_6/Project/cifar-10-batches-py/data_batch_2\")\n",
    "train3 = unpickle(\"/Users/tiagovhp/Ironhack/Week_6/Project/cifar-10-batches-py/data_batch_3\")\n",
    "train4 = unpickle(\"/Users/tiagovhp/Ironhack/Week_6/Project/cifar-10-batches-py/data_batch_4\")\n",
    "train5 = unpickle(\"/Users/tiagovhp/Ironhack/Week_6/Project/cifar-10-batches-py/data_batch_5\")\n",
    "test_data = unpickle(\"/Users/tiagovhp/Ironhack/Week_6/Project/cifar-10-batches-py/test_batch\")\n",
    "label_names = unpickle(\"/Users/tiagovhp/Ironhack/Week_6/Project/cifar-10-batches-py/batches.meta\")\n",
    "\n"
   ]
  },
  {
   "cell_type": "markdown",
   "metadata": {},
   "source": [
    "# Visualization of labeled images\n"
   ]
  },
  {
   "cell_type": "code",
   "execution_count": null,
   "metadata": {},
   "outputs": [
    {
     "ename": "",
     "evalue": "",
     "output_type": "error",
     "traceback": [
      "\u001b[1;31mRunning cells with 'Python 3.13.0' requires the ipykernel package.\n",
      "\u001b[1;31mRun the following command to install 'ipykernel' into the Python environment. \n",
      "\u001b[1;31mCommand: '/opt/homebrew/bin/python3 -m pip install ipykernel -U --user --force-reinstall'"
     ]
    }
   ],
   "source": [
    "# Function to reshape images\n",
    "def reshape_image(image):\n",
    "    # Separate into r,g,b channels\n",
    "    red_channel = image[:1024]\n",
    "    green_channel = image[1024:2048]\n",
    "    blue_channel = image[2048:3072]\n",
    "    # Reshape each channel into numpy array of each channel (32,32)\n",
    "    red_channel = red_channel.reshape(32,32)\n",
    "    green_channel = green_channel.reshape(32,32)\n",
    "    blue_channel = blue_channel.reshape(32,32)\n",
    "    # Stack the channels into a new axis to form a 3d array\n",
    "    reshaped_array = np.stack((red_channel,green_channel,blue_channel), axis=2)\n",
    "    return reshaped_array\n",
    "\n",
    "# Function to return name of the image\n",
    "def label_image(image_nr):\n",
    "    #image = train1[b'data'][img_nr]\n",
    "    label_code = train1[b'labels'][img_nr]\n",
    "    label_name = label_names[b'label_names'][label_code]\n",
    "    return label_name\n",
    "\n",
    "# Reshape and label an image\n",
    "img_nr = 10 # index of image (0 to 10000)\n",
    "image = train1[b'data'][img_nr]  #original array of image\n",
    "reshaped_image = reshape_image(image)\n",
    "image_labeled = label_image(img_nr)\n",
    "\n",
    "# Plot the image\n",
    "import matplotlib.pyplot as plt\n",
    "plt.imshow(reshaped_image)\n",
    "plt.title(image_labeled)\n",
    "\n"
   ]
  },
  {
   "cell_type": "markdown",
   "metadata": {},
   "source": [
    "# Data Normalization"
   ]
  },
  {
   "cell_type": "code",
   "execution_count": null,
   "metadata": {},
   "outputs": [
    {
     "ename": "",
     "evalue": "",
     "output_type": "error",
     "traceback": [
      "\u001b[1;31mRunning cells with 'Python 3.13.0' requires the ipykernel package.\n",
      "\u001b[1;31mRun the following command to install 'ipykernel' into the Python environment. \n",
      "\u001b[1;31mCommand: '/opt/homebrew/bin/python3 -m pip install ipykernel -U --user --force-reinstall'"
     ]
    }
   ],
   "source": [
    "# Normalize datasets\n",
    "def normalize_data(data):\n",
    "    data[b'data'] = data[b'data'] / 255.0\n",
    "\n",
    "normalize_data(train1)\n",
    "normalize_data(train2)\n",
    "normalize_data(train3)\n",
    "normalize_data(train4)\n",
    "normalize_data(train5)\n",
    "normalize_data(test_data)"
   ]
  },
  {
   "cell_type": "code",
   "execution_count": null,
   "metadata": {},
   "outputs": [
    {
     "ename": "",
     "evalue": "",
     "output_type": "error",
     "traceback": [
      "\u001b[1;31mRunning cells with 'Python 3.13.0' requires the ipykernel package.\n",
      "\u001b[1;31mRun the following command to install 'ipykernel' into the Python environment. \n",
      "\u001b[1;31mCommand: '/opt/homebrew/bin/python3 -m pip install ipykernel -U --user --force-reinstall'"
     ]
    }
   ],
   "source": [
    "\n",
    "# Function to reshape entire datasets\n",
    "reshaped_data = np.zeros((10000,32,32,3))\n",
    "def reshape_dataset(data):\n",
    "    reshaped_data = np.zeros((10000,32,32,3))\n",
    "    for i in range(len(data[b'data'])):\n",
    "        reshaped_data[i]= reshape_image(data[b'data'][i]) #reshape image i\n",
    "    return reshaped_data\n",
    "\n"
   ]
  },
  {
   "cell_type": "markdown",
   "metadata": {},
   "source": [
    "# One-Hot encoding of categorical variables"
   ]
  },
  {
   "cell_type": "code",
   "execution_count": null,
   "metadata": {},
   "outputs": [
    {
     "ename": "",
     "evalue": "",
     "output_type": "error",
     "traceback": [
      "\u001b[1;31mRunning cells with 'Python 3.13.0' requires the ipykernel package.\n",
      "\u001b[1;31mRun the following command to install 'ipykernel' into the Python environment. \n",
      "\u001b[1;31mCommand: '/opt/homebrew/bin/python3 -m pip install ipykernel -U --user --force-reinstall'"
     ]
    }
   ],
   "source": [
    "# Function to one-hot encode labels of dataset\n",
    "def labels_encoded(data):\n",
    "    return pd.get_dummies(data[b'labels']).values\n",
    "\n",
    "\n"
   ]
  },
  {
   "cell_type": "code",
   "execution_count": null,
   "metadata": {},
   "outputs": [
    {
     "ename": "",
     "evalue": "",
     "output_type": "error",
     "traceback": [
      "\u001b[1;31mRunning cells with 'Python 3.13.0' requires the ipykernel package.\n",
      "\u001b[1;31mRun the following command to install 'ipykernel' into the Python environment. \n",
      "\u001b[1;31mCommand: '/opt/homebrew/bin/python3 -m pip install ipykernel -U --user --force-reinstall'"
     ]
    }
   ],
   "source": [
    "# Reshape and encode training data\n",
    "train_images = np.vstack([reshape_dataset(train) for train in [train1, train2, train3, train4, train5]])\n",
    "train_labels = np.vstack([labels_encoded(train) for train in [train1, train2, train3, train4, train5]])"
   ]
  },
  {
   "cell_type": "markdown",
   "metadata": {},
   "source": [
    "# Model Architecture - Transfer learning"
   ]
  },
  {
   "cell_type": "code",
   "execution_count": null,
   "metadata": {},
   "outputs": [
    {
     "ename": "",
     "evalue": "",
     "output_type": "error",
     "traceback": [
      "\u001b[1;31mRunning cells with 'Python 3.13.0' requires the ipykernel package.\n",
      "\u001b[1;31mRun the following command to install 'ipykernel' into the Python environment. \n",
      "\u001b[1;31mCommand: '/opt/homebrew/bin/python3 -m pip install ipykernel -U --user --force-reinstall'"
     ]
    }
   ],
   "source": [
    "# Load the pre-trained model ResNet50\n",
    "from tensorflow.keras.applications import EfficientNetB0\n",
    "\n",
    "# Load ResNet50 pre-trained on ImageNet without the top layer\n",
    "base_model = EfficientNetB0(weights='imagenet', include_top=False, input_shape=(32, 32, 3)) # we exclude the top fully connected layers\n",
    "\n",
    "# Fine-tune: Unfreeze the top layers of the base model\n",
    "base_model.trainable = True\n",
    "# Freeze all layers except the last few\n",
    "for layer in base_model.layers[:-20]:  # You can experiment with the number of layers to unfreeze\n",
    "    layer.trainable = False\n",
    "\n"
   ]
  },
  {
   "cell_type": "code",
   "execution_count": null,
   "metadata": {},
   "outputs": [
    {
     "ename": "",
     "evalue": "",
     "output_type": "error",
     "traceback": [
      "\u001b[1;31mRunning cells with 'Python 3.13.0' requires the ipykernel package.\n",
      "\u001b[1;31mRun the following command to install 'ipykernel' into the Python environment. \n",
      "\u001b[1;31mCommand: '/opt/homebrew/bin/python3 -m pip install ipykernel -U --user --force-reinstall'"
     ]
    }
   ],
   "source": [
    "# Import required libraries\n",
    "import tensorflow as tf\n",
    "from tensorflow.keras import layers\n",
    "from tensorflow.keras.models import Sequential\n",
    "from tensorflow.keras.layers import Dense\n",
    "from tensorflow.keras.layers import Dropout\n",
    "\n",
    "# Define the model\n",
    "model = Sequential()\n",
    "# Add the pre-trained base model\n",
    "model.add(base_model)\n",
    "# Add the remaining part of my custom architecture\n",
    "model.add(layers.Flatten())\n",
    "model.add(layers.Dense(256, activation='relu')),\n",
    "model.add(layers.BatchNormalization()),\n",
    "model.add(layers.Dropout(0.5)),  # Dropout for regularization\n",
    "model.add(llayers.Dense(10, activation='softmax'))  # CIFAR-10 has 10 classes"
   ]
  },
  {
   "cell_type": "markdown",
   "metadata": {},
   "source": [
    "# Compile the model"
   ]
  },
  {
   "cell_type": "code",
   "execution_count": null,
   "metadata": {},
   "outputs": [
    {
     "ename": "",
     "evalue": "",
     "output_type": "error",
     "traceback": [
      "\u001b[1;31mRunning cells with 'Python 3.13.0' requires the ipykernel package.\n",
      "\u001b[1;31mRun the following command to install 'ipykernel' into the Python environment. \n",
      "\u001b[1;31mCommand: '/opt/homebrew/bin/python3 -m pip install ipykernel -U --user --force-reinstall'"
     ]
    }
   ],
   "source": [
    "# Compile the model with SGD optimizer\n",
    "optimizer = SGD(learning_rate=0.001, momentum=0.9)\n",
    "model.compile(optimizer=optimizer, loss='categorical_crossentropy', metrics=['accuracy'])"
   ]
  },
  {
   "cell_type": "code",
   "execution_count": null,
   "metadata": {},
   "outputs": [
    {
     "ename": "",
     "evalue": "",
     "output_type": "error",
     "traceback": [
      "\u001b[1;31mRunning cells with 'Python 3.13.0' requires the ipykernel package.\n",
      "\u001b[1;31mRun the following command to install 'ipykernel' into the Python environment. \n",
      "\u001b[1;31mCommand: '/opt/homebrew/bin/python3 -m pip install ipykernel -U --user --force-reinstall'"
     ]
    }
   ],
   "source": [
    "\n"
   ]
  },
  {
   "cell_type": "markdown",
   "metadata": {},
   "source": [
    "# Train the model"
   ]
  },
  {
   "cell_type": "code",
   "execution_count": null,
   "metadata": {},
   "outputs": [
    {
     "ename": "",
     "evalue": "",
     "output_type": "error",
     "traceback": [
      "\u001b[1;31mRunning cells with 'Python 3.13.0' requires the ipykernel package.\n",
      "\u001b[1;31mRun the following command to install 'ipykernel' into the Python environment. \n",
      "\u001b[1;31mCommand: '/opt/homebrew/bin/python3 -m pip install ipykernel -U --user --force-reinstall'"
     ]
    }
   ],
   "source": [
    "from tensorflow.keras.callbacks import EarlyStopping\n",
    "\n",
    "# Set up callbacks for learning rate adjustment and early stopping\n",
    "lr_scheduler = ReduceLROnPlateau(monitor='val_loss', factor=0.5, patience=5, min_lr=1e-6)\n",
    "early_stopping = EarlyStopping(monitor='val_loss',  \n",
    "                               patience=5,          \n",
    "                               restore_best_weights=True)\n",
    "\n",
    "# Train the model with batch_train_1\n",
    "model.fit(train_images, train_labels, epochs=50, batch_size=64, validation_split=0.2, callbacks=[lr_scheduler, early_stopping])"
   ]
  },
  {
   "cell_type": "markdown",
   "metadata": {},
   "source": [
    "# Evaluate the model on test set"
   ]
  },
  {
   "cell_type": "markdown",
   "metadata": {},
   "source": []
  },
  {
   "cell_type": "code",
   "execution_count": null,
   "metadata": {},
   "outputs": [
    {
     "ename": "",
     "evalue": "",
     "output_type": "error",
     "traceback": [
      "\u001b[1;31mRunning cells with 'Python 3.13.0' requires the ipykernel package.\n",
      "\u001b[1;31mRun the following command to install 'ipykernel' into the Python environment. \n",
      "\u001b[1;31mCommand: '/opt/homebrew/bin/python3 -m pip install ipykernel -U --user --force-reinstall'"
     ]
    }
   ],
   "source": [
    "# Evaluate the model on the test set\n",
    "test_images = reshape_dataset(test_data)\n",
    "test_labels = labels_encoded(test_data)\n",
    "\n",
    "loss, accuracy = model.evaluate(test_images, test_labels)\n",
    "\n",
    "print(\"Test Loss:\", loss)\n",
    "print(\"Test Accuracy:\", accuracy)\n"
   ]
  },
  {
   "cell_type": "markdown",
   "metadata": {},
   "source": [
    "# Make prediction on test set"
   ]
  },
  {
   "cell_type": "code",
   "execution_count": null,
   "metadata": {},
   "outputs": [
    {
     "ename": "",
     "evalue": "",
     "output_type": "error",
     "traceback": [
      "\u001b[1;31mRunning cells with 'Python 3.13.0' requires the ipykernel package.\n",
      "\u001b[1;31mRun the following command to install 'ipykernel' into the Python environment. \n",
      "\u001b[1;31mCommand: '/opt/homebrew/bin/python3 -m pip install ipykernel -U --user --force-reinstall'"
     ]
    }
   ],
   "source": [
    "# Make predictions\n",
    "pred_prob = model.predict(test_images)\n",
    "# Get the predicted class by choosing the index with the highest probability\\\n",
    "y_pred = np.argmax(pred_prob, axis=1)"
   ]
  }
 ],
 "metadata": {
  "kernelspec": {
   "display_name": "Python 3",
   "language": "python",
   "name": "python3"
  },
  "language_info": {
   "codemirror_mode": {
    "name": "ipython",
    "version": 3
   },
   "file_extension": ".py",
   "mimetype": "text/x-python",
   "name": "python",
   "nbconvert_exporter": "python",
   "pygments_lexer": "ipython3",
   "version": "3.13.0"
  }
 },
 "nbformat": 4,
 "nbformat_minor": 2
}
